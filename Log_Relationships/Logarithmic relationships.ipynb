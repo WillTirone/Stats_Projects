{
 "cells": [
  {
   "cell_type": "code",
   "execution_count": 1,
   "metadata": {},
   "outputs": [],
   "source": [
    "import pandas as pd \n",
    "import numpy as np \n",
    "import matplotlib.pyplot as plt\n",
    "from pathlib import Path"
   ]
  },
  {
   "cell_type": "code",
   "execution_count": 2,
   "metadata": {
    "scrolled": true
   },
   "outputs": [
    {
     "name": "stdout",
     "output_type": "stream",
     "text": [
      "C:\\Users\\Will Tirone\\Desktop\\Stats_Projects\n"
     ]
    }
   ],
   "source": [
    "# my favorite module to wrangle files; creates a path that is Unix or Windows readable\n",
    "print(Path.cwd()) \n",
    "\n",
    "#loads data in that is stored locally\n",
    "file1 = Path(r'C:\\Users\\Will Tirone\\Desktop\\Stats_Projects\\random_data.csv')"
   ]
  },
  {
   "cell_type": "markdown",
   "metadata": {},
   "source": [
    "Pretty basic equation, but just to help visualize how natural logs work; x is 0 to 100 and y is:  \n",
    "$y = \\log(x)$"
   ]
  },
  {
   "cell_type": "code",
   "execution_count": 3,
   "metadata": {
    "scrolled": false
   },
   "outputs": [
    {
     "data": {
      "text/html": [
       "<div>\n",
       "<style scoped>\n",
       "    .dataframe tbody tr th:only-of-type {\n",
       "        vertical-align: middle;\n",
       "    }\n",
       "\n",
       "    .dataframe tbody tr th {\n",
       "        vertical-align: top;\n",
       "    }\n",
       "\n",
       "    .dataframe thead th {\n",
       "        text-align: right;\n",
       "    }\n",
       "</style>\n",
       "<table border=\"1\" class=\"dataframe\">\n",
       "  <thead>\n",
       "    <tr style=\"text-align: right;\">\n",
       "      <th></th>\n",
       "      <th>x</th>\n",
       "      <th>y</th>\n",
       "    </tr>\n",
       "  </thead>\n",
       "  <tbody>\n",
       "    <tr>\n",
       "      <th>0</th>\n",
       "      <td>1</td>\n",
       "      <td>0.000000</td>\n",
       "    </tr>\n",
       "    <tr>\n",
       "      <th>1</th>\n",
       "      <td>2</td>\n",
       "      <td>0.693147</td>\n",
       "    </tr>\n",
       "    <tr>\n",
       "      <th>2</th>\n",
       "      <td>3</td>\n",
       "      <td>1.098612</td>\n",
       "    </tr>\n",
       "    <tr>\n",
       "      <th>3</th>\n",
       "      <td>4</td>\n",
       "      <td>1.386294</td>\n",
       "    </tr>\n",
       "    <tr>\n",
       "      <th>4</th>\n",
       "      <td>5</td>\n",
       "      <td>1.609438</td>\n",
       "    </tr>\n",
       "  </tbody>\n",
       "</table>\n",
       "</div>"
      ],
      "text/plain": [
       "   x         y\n",
       "0  1  0.000000\n",
       "1  2  0.693147\n",
       "2  3  1.098612\n",
       "3  4  1.386294\n",
       "4  5  1.609438"
      ]
     },
     "execution_count": 3,
     "metadata": {},
     "output_type": "execute_result"
    }
   ],
   "source": [
    "# create dataframe\n",
    "df = pd.read_csv(file1)\n",
    "df.head()"
   ]
  },
  {
   "cell_type": "markdown",
   "metadata": {},
   "source": [
    "Obviously, this is a perfect relationship. Interestingly, there are tons of natural phenonema that exhibit this behavior. "
   ]
  },
  {
   "cell_type": "code",
   "execution_count": 4,
   "metadata": {
    "scrolled": false
   },
   "outputs": [
    {
     "data": {
      "text/plain": [
       "Text(0.5, 0, 'Marketing Spend (thousands)')"
      ]
     },
     "execution_count": 4,
     "metadata": {},
     "output_type": "execute_result"
    },
    {
     "data": {
      "image/png": "[encoded data removed]",
      "text/plain": [
       "<Figure size 432x288 with 1 Axes>"
      ]
     },
     "metadata": {
      "needs_background": "light"
     },
     "output_type": "display_data"
    }
   ],
   "source": [
    "ax = df.plot.scatter(x='x', y='y', grid=True)\n",
    "plt.title('y = log(x)')\n",
    "\n",
    "ax.set_ylabel('New Customers (thousands)')\n",
    "ax.set_xlabel('Marketing Spend (thousands)')"
   ]
  },
  {
   "cell_type": "markdown",
   "metadata": {},
   "source": [
    "What if we were forecasting and wanted to know what y might be at x = 200? These are made up numbers, but if you were in a marketing department, with x = dollars spent and y = new customers generated, you would definitely want to know \"how long\" your advertising spend was beneficial. \n",
    "\n",
    "Simple enough:"
   ]
  },
  {
   "cell_type": "code",
   "execution_count": 5,
   "metadata": {},
   "outputs": [
    {
     "name": "stdout",
     "output_type": "stream",
     "text": [
      "At x = 200; 5.3\n",
      "At x = 99; 4.61\n",
      "How many customers do we have now? 693.0\n"
     ]
    }
   ],
   "source": [
    "import math as m\n",
    "\n",
    "# formula: y = ln(x); evaluating y at x = 200\n",
    "a = m.log(200)\n",
    "print(\"At x = 200;\",round(a,2))\n",
    "\n",
    "# if a is the final value in our existing set... \n",
    "b = df['y'].iloc[99]\n",
    "print(\"At x = 99;\",round(b,2))\n",
    "\n",
    "# then we can find the marginal increase (benefit) from 100 to 200 by doing...\n",
    "# multiplied to show actual number of customers added \n",
    "c = round((a-b)*1000)\n",
    "print(\"How many customers do we have now?\", c)"
   ]
  },
  {
   "cell_type": "markdown",
   "metadata": {},
   "source": [
    "How much did we spend to attract a single new customer?"
   ]
  },
  {
   "cell_type": "code",
   "execution_count": 6,
   "metadata": {},
   "outputs": [
    {
     "name": "stdout",
     "output_type": "stream",
     "text": [
      "We spent:  $145.74\n"
     ]
    }
   ],
   "source": [
    "d = ((200 - 99)*1000)/c\n",
    "print('We spent: ','${:,.2f}'.format(d))"
   ]
  },
  {
   "cell_type": "markdown",
   "metadata": {},
   "source": [
    "That's not bad! Though it's important to remember that it would become increasingly more costly (because the function is logarithmic) to attract even more customers in the future. Think about tracing it out on the curve graphed above. \n",
    "\n",
    "So your boss says \"This is great, let's spend another $1MM on advertising!\". Should you tell him that's a good idea? Let's find out."
   ]
  },
  {
   "cell_type": "code",
   "execution_count": 7,
   "metadata": {
    "scrolled": true
   },
   "outputs": [
    {
     "name": "stdout",
     "output_type": "stream",
     "text": [
      "Keep in mind, x values are in thousands\n",
      "At x = 1000; 6.91\n",
      "Previously, we spent $200,000\n",
      "This is 1609.44 new customers\n",
      "Per customer, on average, we spent 621.33\n"
     ]
    }
   ],
   "source": [
    "# If x = 1000: \n",
    "e = m.log(1000)\n",
    "\n",
    "print('Keep in mind, x values are in thousands')\n",
    "print('At x = 1000;', round(e,2))\n",
    "print('Previously, we spent $200,000')\n",
    "\n",
    "# e and a are y-values \n",
    "f = round((e - a)*1000,2)\n",
    "\n",
    "# e = new value, a = previous value\n",
    "print('This is', f, 'new customers')\n",
    "print('Per customer, on average, we spent', round(1000000/((e - a)*1000),2)) "
   ]
  },
  {
   "cell_type": "markdown",
   "metadata": {},
   "source": [
    "We added 1,609 customers but they each cost almost 4.3x as much, on average, as the first 200 customers.\n",
    "\n",
    "So that was a fun made up example, but what about some other real data that might have this phenomena? There's a pretty popular example in Psychology and Economics to answer the question \"How much does money really buy happiness?\".\n",
    "\n",
    "As it turns out, according to Kahneman and Deaton (2010, https://www.princeton.edu/~deaton/downloads/deaton_kahneman_high_income_improves_evaluation_August2010.pdf) about 75,000 a year. This is logarithmic because it increases really quickly at first; if you had no money, 10,000 would make you very happy, but then individuals experience marginally lower benefit with each dollar with 75,000 being the \"optimal\" point. Although they don't believe that more money actually causes less happiness at any point.\n",
    "\n",
    "So if we're looking at the whole planet, and we plotted GDP per capita vs. their happiness index, would that also be logarithmic? Let's see. I can't find a data set with both of these columns, so we'll just have to make our own. "
   ]
  },
  {
   "cell_type": "code",
   "execution_count": 8,
   "metadata": {},
   "outputs": [],
   "source": [
    "file2 = Path(r'C:\\Users\\Will Tirone\\Desktop\\Stats_Projects\\GDP_PCAP.csv')\n",
    "file3 = Path(r'C:\\Users\\Will Tirone\\Desktop\\Stats_Projects\\national_happiness.csv')\n",
    "GDP = pd.read_csv(file2)\n",
    "Happiness = pd.read_csv(file3)"
   ]
  },
  {
   "cell_type": "code",
   "execution_count": 9,
   "metadata": {},
   "outputs": [
    {
     "data": {
      "text/html": [
       "<div>\n",
       "<style scoped>\n",
       "    .dataframe tbody tr th:only-of-type {\n",
       "        vertical-align: middle;\n",
       "    }\n",
       "\n",
       "    .dataframe tbody tr th {\n",
       "        vertical-align: top;\n",
       "    }\n",
       "\n",
       "    .dataframe thead th {\n",
       "        text-align: right;\n",
       "    }\n",
       "</style>\n",
       "<table border=\"1\" class=\"dataframe\">\n",
       "  <thead>\n",
       "    <tr style=\"text-align: right;\">\n",
       "      <th></th>\n",
       "      <th>rank</th>\n",
       "      <th>country</th>\n",
       "      <th>GDP PCAP (2017)</th>\n",
       "      <th>GDP PCAP (2018)</th>\n",
       "    </tr>\n",
       "  </thead>\n",
       "  <tbody>\n",
       "    <tr>\n",
       "      <th>0</th>\n",
       "      <td>1</td>\n",
       "      <td>Luxembourg</td>\n",
       "      <td>113,954.40</td>\n",
       "      <td>105,863.20</td>\n",
       "    </tr>\n",
       "    <tr>\n",
       "      <th>1</th>\n",
       "      <td>2</td>\n",
       "      <td>Switzerland</td>\n",
       "      <td>83,583.00</td>\n",
       "      <td>80,637.40</td>\n",
       "    </tr>\n",
       "    <tr>\n",
       "      <th>2</th>\n",
       "      <td>3</td>\n",
       "      <td>Norway</td>\n",
       "      <td>82,372.40</td>\n",
       "      <td>75,389.50</td>\n",
       "    </tr>\n",
       "    <tr>\n",
       "      <th>3</th>\n",
       "      <td>4</td>\n",
       "      <td>Macao SAR</td>\n",
       "      <td>81,585.40</td>\n",
       "      <td>77,111.00</td>\n",
       "    </tr>\n",
       "    <tr>\n",
       "      <th>4</th>\n",
       "      <td>5</td>\n",
       "      <td>Iceland</td>\n",
       "      <td>75,699.60</td>\n",
       "      <td>70,248.30</td>\n",
       "    </tr>\n",
       "  </tbody>\n",
       "</table>\n",
       "</div>"
      ],
      "text/plain": [
       "  rank      country GDP PCAP (2017) GDP PCAP (2018)\n",
       "0    1   Luxembourg      113,954.40      105,863.20\n",
       "1    2  Switzerland       83,583.00       80,637.40\n",
       "2    3       Norway       82,372.40       75,389.50\n",
       "3    4    Macao SAR       81,585.40       77,111.00\n",
       "4    5      Iceland       75,699.60       70,248.30"
      ]
     },
     "execution_count": 9,
     "metadata": {},
     "output_type": "execute_result"
    }
   ],
   "source": [
    "GDP.head() "
   ]
  },
  {
   "cell_type": "code",
   "execution_count": 10,
   "metadata": {},
   "outputs": [
    {
     "data": {
      "text/html": [
       "<div>\n",
       "<style scoped>\n",
       "    .dataframe tbody tr th:only-of-type {\n",
       "        vertical-align: middle;\n",
       "    }\n",
       "\n",
       "    .dataframe tbody tr th {\n",
       "        vertical-align: top;\n",
       "    }\n",
       "\n",
       "    .dataframe thead th {\n",
       "        text-align: right;\n",
       "    }\n",
       "</style>\n",
       "<table border=\"1\" class=\"dataframe\">\n",
       "  <thead>\n",
       "    <tr style=\"text-align: right;\">\n",
       "      <th></th>\n",
       "      <th>rank</th>\n",
       "      <th>COUNTRY</th>\n",
       "      <th>SCORE</th>\n",
       "    </tr>\n",
       "  </thead>\n",
       "  <tbody>\n",
       "    <tr>\n",
       "      <th>0</th>\n",
       "      <td>1</td>\n",
       "      <td>Finland</td>\n",
       "      <td>7.769</td>\n",
       "    </tr>\n",
       "    <tr>\n",
       "      <th>1</th>\n",
       "      <td>2</td>\n",
       "      <td>Denmark</td>\n",
       "      <td>7.600</td>\n",
       "    </tr>\n",
       "    <tr>\n",
       "      <th>2</th>\n",
       "      <td>3</td>\n",
       "      <td>Norway</td>\n",
       "      <td>7.554</td>\n",
       "    </tr>\n",
       "    <tr>\n",
       "      <th>3</th>\n",
       "      <td>4</td>\n",
       "      <td>Iceland</td>\n",
       "      <td>7.494</td>\n",
       "    </tr>\n",
       "    <tr>\n",
       "      <th>4</th>\n",
       "      <td>5</td>\n",
       "      <td>Netherlands</td>\n",
       "      <td>7.488</td>\n",
       "    </tr>\n",
       "  </tbody>\n",
       "</table>\n",
       "</div>"
      ],
      "text/plain": [
       "   rank      COUNTRY  SCORE\n",
       "0     1      Finland  7.769\n",
       "1     2      Denmark  7.600\n",
       "2     3       Norway  7.554\n",
       "3     4      Iceland  7.494\n",
       "4     5  Netherlands  7.488"
      ]
     },
     "execution_count": 10,
     "metadata": {},
     "output_type": "execute_result"
    }
   ],
   "source": [
    "Happiness.head() "
   ]
  },
  {
   "cell_type": "code",
   "execution_count": 11,
   "metadata": {},
   "outputs": [],
   "source": [
    "# cleaning the data \n",
    "GDP.drop(['GDP PCAP (2017)', 'rank'], axis=1, inplace=True)\n",
    "Happiness.drop(['rank'],  axis=1, inplace=True)\n",
    "\n",
    "Happiness.rename(columns={\"SCORE\" : 'Happiness_Score', 'COUNTRY' : \n",
    "                         'country'}, inplace=True)\n",
    "GDP.rename(columns={'COUNTRY' : 'country'}, inplace=True)"
   ]
  },
  {
   "cell_type": "code",
   "execution_count": 12,
   "metadata": {},
   "outputs": [],
   "source": [
    "Joined_Set = Happiness.set_index('country').join(GDP.set_index('country'))"
   ]
  },
  {
   "cell_type": "markdown",
   "metadata": {},
   "source": [
    "I joined the tables on the \"country\" column by changing that to the index rather than the default behavior of the number of the row as the index. We can still use df.iloc[number] to query based on position. "
   ]
  },
  {
   "cell_type": "code",
   "execution_count": 13,
   "metadata": {},
   "outputs": [
    {
     "data": {
      "text/html": [
       "<div>\n",
       "<style scoped>\n",
       "    .dataframe tbody tr th:only-of-type {\n",
       "        vertical-align: middle;\n",
       "    }\n",
       "\n",
       "    .dataframe tbody tr th {\n",
       "        vertical-align: top;\n",
       "    }\n",
       "\n",
       "    .dataframe thead th {\n",
       "        text-align: right;\n",
       "    }\n",
       "</style>\n",
       "<table border=\"1\" class=\"dataframe\">\n",
       "  <thead>\n",
       "    <tr style=\"text-align: right;\">\n",
       "      <th></th>\n",
       "      <th>Happiness_Score</th>\n",
       "      <th>GDP PCAP (2018)</th>\n",
       "    </tr>\n",
       "    <tr>\n",
       "      <th>country</th>\n",
       "      <th></th>\n",
       "      <th></th>\n",
       "    </tr>\n",
       "  </thead>\n",
       "  <tbody>\n",
       "    <tr>\n",
       "      <th>Finland</th>\n",
       "      <td>7.769</td>\n",
       "      <td>45,927.50</td>\n",
       "    </tr>\n",
       "    <tr>\n",
       "      <th>Denmark</th>\n",
       "      <td>7.600</td>\n",
       "      <td>56,630.60</td>\n",
       "    </tr>\n",
       "    <tr>\n",
       "      <th>Norway</th>\n",
       "      <td>7.554</td>\n",
       "      <td>75,389.50</td>\n",
       "    </tr>\n",
       "    <tr>\n",
       "      <th>Iceland</th>\n",
       "      <td>7.494</td>\n",
       "      <td>70,248.30</td>\n",
       "    </tr>\n",
       "    <tr>\n",
       "      <th>Netherlands</th>\n",
       "      <td>7.488</td>\n",
       "      <td>48,555.40</td>\n",
       "    </tr>\n",
       "  </tbody>\n",
       "</table>\n",
       "</div>"
      ],
      "text/plain": [
       "             Happiness_Score GDP PCAP (2018)\n",
       "country                                     \n",
       "Finland                7.769       45,927.50\n",
       "Denmark                7.600       56,630.60\n",
       "Norway                 7.554       75,389.50\n",
       "Iceland                7.494       70,248.30\n",
       "Netherlands            7.488       48,555.40"
      ]
     },
     "execution_count": 13,
     "metadata": {},
     "output_type": "execute_result"
    }
   ],
   "source": [
    "Joined_Set.head() "
   ]
  },
  {
   "cell_type": "code",
   "execution_count": 14,
   "metadata": {},
   "outputs": [
    {
     "data": {
      "text/plain": [
       "Happiness_Score         7.48\n",
       "GDP PCAP (2018)    80,637.40\n",
       "Name: Switzerland, dtype: object"
      ]
     },
     "execution_count": 14,
     "metadata": {},
     "output_type": "execute_result"
    }
   ],
   "source": [
    "# to choose a country by position \n",
    "Joined_Set.iloc[5]"
   ]
  },
  {
   "cell_type": "code",
   "execution_count": 15,
   "metadata": {
    "scrolled": true
   },
   "outputs": [
    {
     "data": {
      "text/plain": [
       "Happiness_Score       4.107\n",
       "GDP PCAP (2018)    1,491.20\n",
       "Name: Zambia, dtype: object"
      ]
     },
     "execution_count": 15,
     "metadata": {},
     "output_type": "execute_result"
    }
   ],
   "source": [
    "# or, to choose a country by name\n",
    "Joined_Set.loc['Zambia']"
   ]
  },
  {
   "cell_type": "code",
   "execution_count": 16,
   "metadata": {
    "scrolled": true
   },
   "outputs": [],
   "source": [
    "# had several issues with the original data; I couldn't plot it because there were commas in the numbers, \n",
    "# so those had to be removed as well as some dashes that I replaced with zeros. \n",
    "\n",
    "Joined_Set['GDP PCAP (2018)'] = Joined_Set['GDP PCAP (2018)'].str.replace(',','')\n",
    "Joined_Set['GDP PCAP (2018)'] = Joined_Set['GDP PCAP (2018)'].str.replace('-','0')\n",
    "\n",
    "Joined_Set['GDP PCAP (2018)'] = Joined_Set['GDP PCAP (2018)'].astype(float)"
   ]
  },
  {
   "cell_type": "markdown",
   "metadata": {},
   "source": [
    "### Results: \n",
    "\n",
    "The below graph is a (surprisingly) good example of a log relationship! A line of best fit would pretty clearly go up dramatically but marginal benefit would start to even out as GDP PCAP increased. \n",
    "\n",
    "Happiness is fairly difficult to measure (if not impossible?) so the Y axis may be a bit subjective, but generally the relationship seems to make sense. People become significantly happier when they don't have access to healthcare and then receive access, whereas someone in a developing country may only become a little bit happier when they're able to shop at Whole Foods vs. a local grocery store. "
   ]
  },
  {
   "cell_type": "code",
   "execution_count": 20,
   "metadata": {
    "scrolled": true
   },
   "outputs": [
    {
     "data": {
      "text/plain": [
       "Text(0.5, 0, 'GDP Per Capita (USD)')"
      ]
     },
     "execution_count": 20,
     "metadata": {},
     "output_type": "execute_result"
    },
    {
     "data": {
      "image/png": "[encoded data removed]",
      "text/plain": [
       "<Figure size 432x288 with 1 Axes>"
      ]
     },
     "metadata": {
      "needs_background": "light"
     },
     "output_type": "display_data"
    }
   ],
   "source": [
    "ax2 = Joined_Set.plot.scatter(x='GDP PCAP (2018)', y='Happiness_Score', grid=True)\n",
    "plt.title('GDP vs. Happiness Score (2018)')\n",
    "\n",
    "ax2.set_ylabel('Happiness (As reported by the UN)')\n",
    "ax2.set_xlabel('GDP Per Capita (USD)')"
   ]
  }
 ],
 "metadata": {
  "kernelspec": {
   "display_name": "Python 3",
   "language": "python",
   "name": "python3"
  },
  "language_info": {
   "codemirror_mode": {
    "name": "ipython",
    "version": 3
   },
   "file_extension": ".py",
   "mimetype": "text/x-python",
   "name": "python",
   "nbconvert_exporter": "python",
   "pygments_lexer": "ipython3",
   "version": "3.7.1"
  },
  "toc": {
   "base_numbering": 1,
   "nav_menu": {},
   "number_sections": true,
   "sideBar": true,
   "skip_h1_title": false,
   "title_cell": "Table of Contents",
   "title_sidebar": "Contents",
   "toc_cell": false,
   "toc_position": {},
   "toc_section_display": true,
   "toc_window_display": false
  },
  "varInspector": {
   "cols": {
    "lenName": 16,
    "lenType": 16,
    "lenVar": 40
   },
   "kernels_config": {
    "python": {
     "delete_cmd_postfix": "",
     "delete_cmd_prefix": "del ",
     "library": "var_list.py",
     "varRefreshCmd": "print(var_dic_list())"
    },
    "r": {
     "delete_cmd_postfix": ") ",
     "delete_cmd_prefix": "rm(",
     "library": "var_list.r",
     "varRefreshCmd": "cat(var_dic_list()) "
    }
   },
   "types_to_exclude": [
    "module",
    "function",
    "builtin_function_or_method",
    "instance",
    "_Feature"
   ],
   "window_display": false
  }
 },
 "nbformat": 4,
 "nbformat_minor": 2
}
