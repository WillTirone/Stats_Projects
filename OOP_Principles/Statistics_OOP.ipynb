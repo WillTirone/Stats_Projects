{
 "cells": [
  {
   "cell_type": "code",
   "execution_count": 2,
   "metadata": {},
   "outputs": [],
   "source": [
    "import math as m \n",
    "import pandas as pd \n",
    "import numpy as np \n",
    "import numpy.testing as npt "
   ]
  },
  {
   "cell_type": "code",
   "execution_count": 74,
   "metadata": {},
   "outputs": [],
   "source": [
    "class Std_Norm:\n",
    "    \n",
    "    def __init__(self, mean, variance):\n",
    "        \"\"\"\n",
    "        constructor class \n",
    "        \"\"\"\n",
    "    \n",
    "        self.mean = float(mean)\n",
    "        self.sigma = float(m.sqrt(variance))  \n",
    "        if variance < np.inf:\n",
    "            self.variance = variance \n",
    "        else: \n",
    "            raise ValueError('Enter a finite variance')\n",
    "        self.x_range = pd.Series(data=range(-10000,10000))\n",
    "        \n",
    "    def __repr__(self):\n",
    "        return f\"Normal with mean {self.mean} and variance {self.variance}\"\n",
    "    \n",
    "    def pdf(self):\n",
    "        self.pdf = (1/(self.sigma*m.sqrt(2*m.pi)))*m.e**((-1/2)*((self.x_range-self.mean)/self.sigma)**2)\n",
    "        npt.assert_equal(1, round(sum(self.pdf),2))\n",
    "        "
   ]
  },
  {
   "cell_type": "code",
   "execution_count": 76,
   "metadata": {},
   "outputs": [],
   "source": [
    "a = Std_Norm(0,1)"
   ]
  }
 ],
 "metadata": {
  "kernelspec": {
   "display_name": "Python 3",
   "language": "python",
   "name": "python3"
  },
  "language_info": {
   "codemirror_mode": {
    "name": "ipython",
    "version": 3
   },
   "file_extension": ".py",
   "mimetype": "text/x-python",
   "name": "python",
   "nbconvert_exporter": "python",
   "pygments_lexer": "ipython3",
   "version": "3.7.0"
  }
 },
 "nbformat": 4,
 "nbformat_minor": 2
}
